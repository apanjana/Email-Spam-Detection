{
 "cells": [
  {
   "cell_type": "markdown",
   "id": "a65fd45a",
   "metadata": {},
   "source": [
    "\n",
    "# NAIVE BAYES CLASSIFIER\n"
   ]
  },
  {
   "cell_type": "markdown",
   "id": "923e37fb",
   "metadata": {},
   "source": [
    "EMAIL SPAM DETECTION USING NAIVE BAYES CLASSIFIER"
   ]
  },
  {
   "cell_type": "markdown",
   "id": "19d0f709",
   "metadata": {},
   "source": [
    "The Naïve Bayes classifier is a supervised machine learning algorithm, which is used for classification tasks, like text classification.\n",
    "It predicts on the basis of the probability of an object."
   ]
  },
  {
   "cell_type": "markdown",
   "id": "34fbe160",
   "metadata": {},
   "source": [
    "The algorithm is called 'Naïve' because it assumes that the occurrence of a certain feature is independent of the occurrence of other features.\n",
    "Also, the algorithm is based on the Bayes Theorem. \n",
    "Hence, the algorithm is called \"Naïve Bayes\""
   ]
  },
  {
   "cell_type": "markdown",
   "id": "35a4bddf",
   "metadata": {},
   "source": [
    "First, we import the libraries that we might require for our purpose."
   ]
  },
  {
   "cell_type": "code",
   "execution_count": 1,
   "id": "2238cbe4",
   "metadata": {},
   "outputs": [],
   "source": [
    "import pandas as pd"
   ]
  },
  {
   "cell_type": "markdown",
   "id": "bff6c75d",
   "metadata": {},
   "source": [
    "Creating a dataframe out of our csv file that contains the dataset."
   ]
  },
  {
   "cell_type": "code",
   "execution_count": 3,
   "id": "e15d793f",
   "metadata": {},
   "outputs": [],
   "source": [
    "df = pd.read_csv(\"spam email dataset.csv\")"
   ]
  },
  {
   "cell_type": "markdown",
   "id": "2fe47ab4",
   "metadata": {},
   "source": [
    "The dataframe is,"
   ]
  },
  {
   "cell_type": "code",
   "execution_count": 4,
   "id": "804ad85c",
   "metadata": {},
   "outputs": [
    {
     "data": {
      "text/html": [
       "<div>\n",
       "<style scoped>\n",
       "    .dataframe tbody tr th:only-of-type {\n",
       "        vertical-align: middle;\n",
       "    }\n",
       "\n",
       "    .dataframe tbody tr th {\n",
       "        vertical-align: top;\n",
       "    }\n",
       "\n",
       "    .dataframe thead th {\n",
       "        text-align: right;\n",
       "    }\n",
       "</style>\n",
       "<table border=\"1\" class=\"dataframe\">\n",
       "  <thead>\n",
       "    <tr style=\"text-align: right;\">\n",
       "      <th></th>\n",
       "      <th>Category</th>\n",
       "      <th>Message</th>\n",
       "    </tr>\n",
       "  </thead>\n",
       "  <tbody>\n",
       "    <tr>\n",
       "      <th>0</th>\n",
       "      <td>ham</td>\n",
       "      <td>Go until jurong point, crazy.. Available only ...</td>\n",
       "    </tr>\n",
       "    <tr>\n",
       "      <th>1</th>\n",
       "      <td>ham</td>\n",
       "      <td>Ok lar... Joking wif u oni...</td>\n",
       "    </tr>\n",
       "    <tr>\n",
       "      <th>2</th>\n",
       "      <td>spam</td>\n",
       "      <td>Free entry in 2 a wkly comp to win FA Cup fina...</td>\n",
       "    </tr>\n",
       "    <tr>\n",
       "      <th>3</th>\n",
       "      <td>ham</td>\n",
       "      <td>U dun say so early hor... U c already then say...</td>\n",
       "    </tr>\n",
       "    <tr>\n",
       "      <th>4</th>\n",
       "      <td>ham</td>\n",
       "      <td>Nah I don't think he goes to usf, he lives aro...</td>\n",
       "    </tr>\n",
       "    <tr>\n",
       "      <th>...</th>\n",
       "      <td>...</td>\n",
       "      <td>...</td>\n",
       "    </tr>\n",
       "    <tr>\n",
       "      <th>5567</th>\n",
       "      <td>spam</td>\n",
       "      <td>This is the 2nd time we have tried 2 contact u...</td>\n",
       "    </tr>\n",
       "    <tr>\n",
       "      <th>5568</th>\n",
       "      <td>ham</td>\n",
       "      <td>Will ü b going to esplanade fr home?</td>\n",
       "    </tr>\n",
       "    <tr>\n",
       "      <th>5569</th>\n",
       "      <td>ham</td>\n",
       "      <td>Pity, * was in mood for that. So...any other s...</td>\n",
       "    </tr>\n",
       "    <tr>\n",
       "      <th>5570</th>\n",
       "      <td>ham</td>\n",
       "      <td>The guy did some bitching but I acted like i'd...</td>\n",
       "    </tr>\n",
       "    <tr>\n",
       "      <th>5571</th>\n",
       "      <td>ham</td>\n",
       "      <td>Rofl. Its true to its name</td>\n",
       "    </tr>\n",
       "  </tbody>\n",
       "</table>\n",
       "<p>5572 rows × 2 columns</p>\n",
       "</div>"
      ],
      "text/plain": [
       "     Category                                            Message\n",
       "0         ham  Go until jurong point, crazy.. Available only ...\n",
       "1         ham                      Ok lar... Joking wif u oni...\n",
       "2        spam  Free entry in 2 a wkly comp to win FA Cup fina...\n",
       "3         ham  U dun say so early hor... U c already then say...\n",
       "4         ham  Nah I don't think he goes to usf, he lives aro...\n",
       "...       ...                                                ...\n",
       "5567     spam  This is the 2nd time we have tried 2 contact u...\n",
       "5568      ham               Will ü b going to esplanade fr home?\n",
       "5569      ham  Pity, * was in mood for that. So...any other s...\n",
       "5570      ham  The guy did some bitching but I acted like i'd...\n",
       "5571      ham                         Rofl. Its true to its name\n",
       "\n",
       "[5572 rows x 2 columns]"
      ]
     },
     "execution_count": 4,
     "metadata": {},
     "output_type": "execute_result"
    }
   ],
   "source": [
    "df"
   ]
  },
  {
   "cell_type": "markdown",
   "id": "18bea12b",
   "metadata": {},
   "source": [
    "Lets now check the head of the dataframe"
   ]
  },
  {
   "cell_type": "code",
   "execution_count": 5,
   "id": "6688f25c",
   "metadata": {},
   "outputs": [
    {
     "data": {
      "text/html": [
       "<div>\n",
       "<style scoped>\n",
       "    .dataframe tbody tr th:only-of-type {\n",
       "        vertical-align: middle;\n",
       "    }\n",
       "\n",
       "    .dataframe tbody tr th {\n",
       "        vertical-align: top;\n",
       "    }\n",
       "\n",
       "    .dataframe thead th {\n",
       "        text-align: right;\n",
       "    }\n",
       "</style>\n",
       "<table border=\"1\" class=\"dataframe\">\n",
       "  <thead>\n",
       "    <tr style=\"text-align: right;\">\n",
       "      <th></th>\n",
       "      <th>Category</th>\n",
       "      <th>Message</th>\n",
       "    </tr>\n",
       "  </thead>\n",
       "  <tbody>\n",
       "    <tr>\n",
       "      <th>0</th>\n",
       "      <td>ham</td>\n",
       "      <td>Go until jurong point, crazy.. Available only ...</td>\n",
       "    </tr>\n",
       "    <tr>\n",
       "      <th>1</th>\n",
       "      <td>ham</td>\n",
       "      <td>Ok lar... Joking wif u oni...</td>\n",
       "    </tr>\n",
       "    <tr>\n",
       "      <th>2</th>\n",
       "      <td>spam</td>\n",
       "      <td>Free entry in 2 a wkly comp to win FA Cup fina...</td>\n",
       "    </tr>\n",
       "    <tr>\n",
       "      <th>3</th>\n",
       "      <td>ham</td>\n",
       "      <td>U dun say so early hor... U c already then say...</td>\n",
       "    </tr>\n",
       "    <tr>\n",
       "      <th>4</th>\n",
       "      <td>ham</td>\n",
       "      <td>Nah I don't think he goes to usf, he lives aro...</td>\n",
       "    </tr>\n",
       "  </tbody>\n",
       "</table>\n",
       "</div>"
      ],
      "text/plain": [
       "  Category                                            Message\n",
       "0      ham  Go until jurong point, crazy.. Available only ...\n",
       "1      ham                      Ok lar... Joking wif u oni...\n",
       "2     spam  Free entry in 2 a wkly comp to win FA Cup fina...\n",
       "3      ham  U dun say so early hor... U c already then say...\n",
       "4      ham  Nah I don't think he goes to usf, he lives aro..."
      ]
     },
     "execution_count": 5,
     "metadata": {},
     "output_type": "execute_result"
    }
   ],
   "source": [
    "df.head()"
   ]
  },
  {
   "cell_type": "markdown",
   "id": "943963fe",
   "metadata": {},
   "source": [
    "In the dataset, we represent the category as 'spam' for a bad mail and 'ham' for a good mail."
   ]
  },
  {
   "cell_type": "markdown",
   "id": "b0cbedb5",
   "metadata": {},
   "source": [
    "Lets now explore the data. We can group the dataset category-wise and then lets describe the data"
   ]
  },
  {
   "cell_type": "code",
   "execution_count": 6,
   "id": "f8b6382b",
   "metadata": {},
   "outputs": [
    {
     "data": {
      "text/html": [
       "<div>\n",
       "<style scoped>\n",
       "    .dataframe tbody tr th:only-of-type {\n",
       "        vertical-align: middle;\n",
       "    }\n",
       "\n",
       "    .dataframe tbody tr th {\n",
       "        vertical-align: top;\n",
       "    }\n",
       "\n",
       "    .dataframe thead tr th {\n",
       "        text-align: left;\n",
       "    }\n",
       "\n",
       "    .dataframe thead tr:last-of-type th {\n",
       "        text-align: right;\n",
       "    }\n",
       "</style>\n",
       "<table border=\"1\" class=\"dataframe\">\n",
       "  <thead>\n",
       "    <tr>\n",
       "      <th></th>\n",
       "      <th colspan=\"4\" halign=\"left\">Message</th>\n",
       "    </tr>\n",
       "    <tr>\n",
       "      <th></th>\n",
       "      <th>count</th>\n",
       "      <th>unique</th>\n",
       "      <th>top</th>\n",
       "      <th>freq</th>\n",
       "    </tr>\n",
       "    <tr>\n",
       "      <th>Category</th>\n",
       "      <th></th>\n",
       "      <th></th>\n",
       "      <th></th>\n",
       "      <th></th>\n",
       "    </tr>\n",
       "  </thead>\n",
       "  <tbody>\n",
       "    <tr>\n",
       "      <th>ham</th>\n",
       "      <td>4825</td>\n",
       "      <td>4516</td>\n",
       "      <td>Sorry, I'll call later</td>\n",
       "      <td>30</td>\n",
       "    </tr>\n",
       "    <tr>\n",
       "      <th>spam</th>\n",
       "      <td>747</td>\n",
       "      <td>641</td>\n",
       "      <td>Please call our customer service representativ...</td>\n",
       "      <td>4</td>\n",
       "    </tr>\n",
       "  </tbody>\n",
       "</table>\n",
       "</div>"
      ],
      "text/plain": [
       "         Message                                                            \\\n",
       "           count unique                                                top   \n",
       "Category                                                                     \n",
       "ham         4825   4516                             Sorry, I'll call later   \n",
       "spam         747    641  Please call our customer service representativ...   \n",
       "\n",
       "               \n",
       "         freq  \n",
       "Category       \n",
       "ham        30  \n",
       "spam        4  "
      ]
     },
     "execution_count": 6,
     "metadata": {},
     "output_type": "execute_result"
    }
   ],
   "source": [
    "df.groupby('Category').describe()"
   ]
  },
  {
   "cell_type": "markdown",
   "id": "bf958f0c",
   "metadata": {},
   "source": [
    "On describing we can find out that the count of 'ham' messages is 4825 and 'spam' messages is 747 out of which 4516 and 641 messages contain unique characters repectively. The messages which most frequently appeared have also been described."
   ]
  },
  {
   "cell_type": "markdown",
   "id": "4f18b1bf",
   "metadata": {},
   "source": [
    "Lets now convert our text datas to numericals, since machines can understand only in numerical formats. Let 'spam' messages be denoted using 1 and 'ham' messages using 0."
   ]
  },
  {
   "cell_type": "code",
   "execution_count": 7,
   "id": "be6f04b4",
   "metadata": {},
   "outputs": [],
   "source": [
    "df['Spam'] = df['Category'].apply(lambda x: 1 if x == 'spam' else 0)"
   ]
  },
  {
   "cell_type": "code",
   "execution_count": 8,
   "id": "d5374a99",
   "metadata": {},
   "outputs": [
    {
     "data": {
      "text/html": [
       "<div>\n",
       "<style scoped>\n",
       "    .dataframe tbody tr th:only-of-type {\n",
       "        vertical-align: middle;\n",
       "    }\n",
       "\n",
       "    .dataframe tbody tr th {\n",
       "        vertical-align: top;\n",
       "    }\n",
       "\n",
       "    .dataframe thead th {\n",
       "        text-align: right;\n",
       "    }\n",
       "</style>\n",
       "<table border=\"1\" class=\"dataframe\">\n",
       "  <thead>\n",
       "    <tr style=\"text-align: right;\">\n",
       "      <th></th>\n",
       "      <th>Category</th>\n",
       "      <th>Message</th>\n",
       "      <th>Spam</th>\n",
       "    </tr>\n",
       "  </thead>\n",
       "  <tbody>\n",
       "    <tr>\n",
       "      <th>0</th>\n",
       "      <td>ham</td>\n",
       "      <td>Go until jurong point, crazy.. Available only ...</td>\n",
       "      <td>0</td>\n",
       "    </tr>\n",
       "    <tr>\n",
       "      <th>1</th>\n",
       "      <td>ham</td>\n",
       "      <td>Ok lar... Joking wif u oni...</td>\n",
       "      <td>0</td>\n",
       "    </tr>\n",
       "    <tr>\n",
       "      <th>2</th>\n",
       "      <td>spam</td>\n",
       "      <td>Free entry in 2 a wkly comp to win FA Cup fina...</td>\n",
       "      <td>1</td>\n",
       "    </tr>\n",
       "    <tr>\n",
       "      <th>3</th>\n",
       "      <td>ham</td>\n",
       "      <td>U dun say so early hor... U c already then say...</td>\n",
       "      <td>0</td>\n",
       "    </tr>\n",
       "    <tr>\n",
       "      <th>4</th>\n",
       "      <td>ham</td>\n",
       "      <td>Nah I don't think he goes to usf, he lives aro...</td>\n",
       "      <td>0</td>\n",
       "    </tr>\n",
       "  </tbody>\n",
       "</table>\n",
       "</div>"
      ],
      "text/plain": [
       "  Category                                            Message  Spam\n",
       "0      ham  Go until jurong point, crazy.. Available only ...     0\n",
       "1      ham                      Ok lar... Joking wif u oni...     0\n",
       "2     spam  Free entry in 2 a wkly comp to win FA Cup fina...     1\n",
       "3      ham  U dun say so early hor... U c already then say...     0\n",
       "4      ham  Nah I don't think he goes to usf, he lives aro...     0"
      ]
     },
     "execution_count": 8,
     "metadata": {},
     "output_type": "execute_result"
    }
   ],
   "source": [
    "df.head()"
   ]
  },
  {
   "cell_type": "markdown",
   "id": "baf3e06e",
   "metadata": {},
   "source": [
    "Lets now divide the dataframe into input (x) and output (y)."
   ]
  },
  {
   "cell_type": "code",
   "execution_count": 9,
   "id": "9712294b",
   "metadata": {},
   "outputs": [],
   "source": [
    "x = df.Message\n",
    "y = df.Spam"
   ]
  },
  {
   "cell_type": "markdown",
   "id": "d38628be",
   "metadata": {},
   "source": [
    "Lets now perform train_test_split. Lets first import the library file required for that."
   ]
  },
  {
   "cell_type": "code",
   "execution_count": 10,
   "id": "5953b5b0",
   "metadata": {},
   "outputs": [],
   "source": [
    "from sklearn.model_selection import train_test_split"
   ]
  },
  {
   "cell_type": "markdown",
   "id": "fd06a724",
   "metadata": {},
   "source": [
    "Splitting the data into training and testing"
   ]
  },
  {
   "cell_type": "code",
   "execution_count": 11,
   "id": "a7a79df6",
   "metadata": {},
   "outputs": [],
   "source": [
    "x_train, x_test, y_train, y_test = train_test_split(x,y,test_size=0.2)"
   ]
  },
  {
   "cell_type": "code",
   "execution_count": 12,
   "id": "9c10ab49",
   "metadata": {},
   "outputs": [
    {
     "data": {
      "text/plain": [
       "1284                            Yes i thought so. Thanks.\n",
       "5287    Hey ! Don't forget ... You are MINE ... For ME...\n",
       "4125    Hey sexy buns ! Have I told you ? I adore you,...\n",
       "4702                               I liked the new mobile\n",
       "2914    Kindly send some one to our flat before  &lt;D...\n",
       "                              ...                        \n",
       "4322    K, jason says he's gonna be around so I'll be ...\n",
       "2461    i cant talk to you now.i will call when i can....\n",
       "991                                          26th OF JULY\n",
       "2245                              No management puzzeles.\n",
       "225     500 New Mobiles from 2004, MUST GO! Txt: NOKIA...\n",
       "Name: Message, Length: 4457, dtype: object"
      ]
     },
     "execution_count": 12,
     "metadata": {},
     "output_type": "execute_result"
    }
   ],
   "source": [
    "x_train"
   ]
  },
  {
   "cell_type": "code",
   "execution_count": 13,
   "id": "f2729c66",
   "metadata": {},
   "outputs": [
    {
     "data": {
      "text/plain": [
       "5276    Dunno leh cant remember mayb lor. So wat time ...\n",
       "1515                         K:)all the best:)congrats...\n",
       "603                Speaking of does he have any cash yet?\n",
       "3228         Wife.how she knew the time of murder exactly\n",
       "1269    Can U get 2 phone NOW? I wanna chat 2 set up m...\n",
       "                              ...                        \n",
       "2476                        Mm i am on the way to railway\n",
       "3864    Oh my god! I've found your number again! I'm s...\n",
       "676                    I dont knw pa, i just drink milk..\n",
       "1065    That's fine, I'll bitch at you about it later ...\n",
       "2929                                          Anything...\n",
       "Name: Message, Length: 1115, dtype: object"
      ]
     },
     "execution_count": 13,
     "metadata": {},
     "output_type": "execute_result"
    }
   ],
   "source": [
    "x_test"
   ]
  },
  {
   "cell_type": "code",
   "execution_count": 14,
   "id": "0b876296",
   "metadata": {},
   "outputs": [
    {
     "data": {
      "text/plain": [
       "1284    0\n",
       "5287    0\n",
       "4125    0\n",
       "4702    0\n",
       "2914    0\n",
       "       ..\n",
       "4322    0\n",
       "2461    0\n",
       "991     0\n",
       "2245    0\n",
       "225     1\n",
       "Name: Spam, Length: 4457, dtype: int64"
      ]
     },
     "execution_count": 14,
     "metadata": {},
     "output_type": "execute_result"
    }
   ],
   "source": [
    "y_train"
   ]
  },
  {
   "cell_type": "code",
   "execution_count": 15,
   "id": "dd37ab21",
   "metadata": {},
   "outputs": [
    {
     "data": {
      "text/plain": [
       "5276    0\n",
       "1515    0\n",
       "603     0\n",
       "3228    0\n",
       "1269    1\n",
       "       ..\n",
       "2476    0\n",
       "3864    1\n",
       "676     0\n",
       "1065    0\n",
       "2929    0\n",
       "Name: Spam, Length: 1115, dtype: int64"
      ]
     },
     "execution_count": 15,
     "metadata": {},
     "output_type": "execute_result"
    }
   ],
   "source": [
    "y_test"
   ]
  },
  {
   "cell_type": "markdown",
   "id": "38c603cf",
   "metadata": {},
   "source": [
    "Lets now convert the texts in 'Category' column to numerical. We can use 'count vecrorization' method for this.\n",
    "The Count Vectorization method is used to transform a given text into a vector on the basis of the frequency or count of each word that occurs in the entire text."
   ]
  },
  {
   "cell_type": "markdown",
   "id": "cbe721bd",
   "metadata": {},
   "source": [
    "Lets first import the libraries required for this"
   ]
  },
  {
   "cell_type": "code",
   "execution_count": 16,
   "id": "9fdd4af8",
   "metadata": {},
   "outputs": [],
   "source": [
    "from sklearn.feature_extraction.text import CountVectorizer"
   ]
  },
  {
   "cell_type": "code",
   "execution_count": 17,
   "id": "10e99aff",
   "metadata": {},
   "outputs": [],
   "source": [
    "v = CountVectorizer()"
   ]
  },
  {
   "cell_type": "markdown",
   "id": "0cdea8db",
   "metadata": {},
   "source": [
    "Now lets fit and transform the training input values"
   ]
  },
  {
   "cell_type": "code",
   "execution_count": 18,
   "id": "7d26e6c3",
   "metadata": {},
   "outputs": [],
   "source": [
    "x_train_count = v.fit_transform(x_train.values)"
   ]
  },
  {
   "cell_type": "code",
   "execution_count": 19,
   "id": "8efc827c",
   "metadata": {},
   "outputs": [
    {
     "data": {
      "text/plain": [
       "<4457x7668 sparse matrix of type '<class 'numpy.int64'>'\n",
       "\twith 58956 stored elements in Compressed Sparse Row format>"
      ]
     },
     "execution_count": 19,
     "metadata": {},
     "output_type": "execute_result"
    }
   ],
   "source": [
    "x_train_count"
   ]
  },
  {
   "cell_type": "markdown",
   "id": "b87aa8af",
   "metadata": {},
   "source": [
    "We can convert this into an array using a 'toarray' function"
   ]
  },
  {
   "cell_type": "markdown",
   "id": "5085acb3",
   "metadata": {},
   "source": [
    "There are three types of Naïve Bayes classifier:\n",
    "   \n",
    "    1.Bernoulli Naïve Bayes: These are used for discrete data, where features are in binary format\n",
    "    2.Multinomial Naïve Bayes: These are used for multiple discrete features\n",
    "    3.Gaussian Naïve Bayes: These are used when dealing with continuous data\n"
   ]
  },
  {
   "cell_type": "markdown",
   "id": "e57d3e6b",
   "metadata": {},
   "source": [
    "Here, we are dealing with datas containing multiple and discrete values. Hence, we use Multinomial Naïve Bayes Algorithm."
   ]
  },
  {
   "cell_type": "markdown",
   "id": "0d0657cd",
   "metadata": {},
   "source": [
    "Importing the required files for this algorithm,"
   ]
  },
  {
   "cell_type": "code",
   "execution_count": 20,
   "id": "8ddb659a",
   "metadata": {},
   "outputs": [],
   "source": [
    "from sklearn.naive_bayes import MultinomialNB"
   ]
  },
  {
   "cell_type": "markdown",
   "id": "5ca840c9",
   "metadata": {},
   "source": [
    "Lets now create a model for this algorithm"
   ]
  },
  {
   "cell_type": "code",
   "execution_count": 21,
   "id": "c9fc5988",
   "metadata": {},
   "outputs": [],
   "source": [
    "model = MultinomialNB()"
   ]
  },
  {
   "cell_type": "markdown",
   "id": "6afbc8eb",
   "metadata": {},
   "source": [
    "Training the model,"
   ]
  },
  {
   "cell_type": "code",
   "execution_count": 22,
   "id": "4a6eaa26",
   "metadata": {},
   "outputs": [
    {
     "data": {
      "text/plain": [
       "MultinomialNB()"
      ]
     },
     "execution_count": 22,
     "metadata": {},
     "output_type": "execute_result"
    }
   ],
   "source": [
    "model.fit(x_train_count,y_train)"
   ]
  },
  {
   "cell_type": "markdown",
   "id": "502308b9",
   "metadata": {},
   "source": [
    "Lets now predict an email"
   ]
  },
  {
   "cell_type": "code",
   "execution_count": 23,
   "id": "e6853cf0",
   "metadata": {},
   "outputs": [],
   "source": [
    "email = ['Congratulations, on winning $2000']"
   ]
  },
  {
   "cell_type": "markdown",
   "id": "26b9d876",
   "metadata": {},
   "source": [
    "Lets now convert this email into numerical format"
   ]
  },
  {
   "cell_type": "code",
   "execution_count": 24,
   "id": "4b6e9540",
   "metadata": {},
   "outputs": [],
   "source": [
    "email_count = v.transform(email)"
   ]
  },
  {
   "cell_type": "markdown",
   "id": "edbe773b",
   "metadata": {},
   "source": [
    "Lets now predict the output"
   ]
  },
  {
   "cell_type": "code",
   "execution_count": 25,
   "id": "83b87753",
   "metadata": {},
   "outputs": [
    {
     "data": {
      "text/plain": [
       "array([1], dtype=int64)"
      ]
     },
     "execution_count": 25,
     "metadata": {},
     "output_type": "execute_result"
    }
   ],
   "source": [
    "model.predict(email_count)"
   ]
  },
  {
   "cell_type": "markdown",
   "id": "74b118eb",
   "metadata": {},
   "source": [
    "The output is a spam!!"
   ]
  },
  {
   "cell_type": "markdown",
   "id": "e4de8fb1",
   "metadata": {},
   "source": [
    "Lets predict the output of another email"
   ]
  },
  {
   "cell_type": "code",
   "execution_count": 26,
   "id": "2c7b2ed6",
   "metadata": {},
   "outputs": [
    {
     "data": {
      "text/plain": [
       "array([0], dtype=int64)"
      ]
     },
     "execution_count": 26,
     "metadata": {},
     "output_type": "execute_result"
    }
   ],
   "source": [
    "email2 = ['Heyy lets meet this evening at 7']\n",
    "email2_count = v.transform(email2)\n",
    "model.predict(email2_count)"
   ]
  },
  {
   "cell_type": "markdown",
   "id": "f76b684f",
   "metadata": {},
   "source": [
    "The output is a ham!!"
   ]
  }
 ],
 "metadata": {
  "kernelspec": {
   "display_name": "Python 3 (ipykernel)",
   "language": "python",
   "name": "python3"
  },
  "language_info": {
   "codemirror_mode": {
    "name": "ipython",
    "version": 3
   },
   "file_extension": ".py",
   "mimetype": "text/x-python",
   "name": "python",
   "nbconvert_exporter": "python",
   "pygments_lexer": "ipython3",
   "version": "3.9.12"
  }
 },
 "nbformat": 4,
 "nbformat_minor": 5
}
